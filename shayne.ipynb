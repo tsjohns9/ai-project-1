{
 "cells": [
  {
   "cell_type": "code",
   "execution_count": null,
   "metadata": {},
   "outputs": [],
   "source": [
    "!pip install prophet"
   ]
  },
  {
   "cell_type": "code",
   "execution_count": null,
   "metadata": {},
   "outputs": [],
   "source": [
    "!pip install numpy"
   ]
  },
  {
   "cell_type": "code",
   "execution_count": null,
   "metadata": {},
   "outputs": [],
   "source": [
    "#import the needed code modules\n",
    "#Pandas- basic for JN/JL/COLAB\n",
    "import pandas as pd\n",
    "#MatPlotlib- to assist with cultivating plots of data\n",
    "import matplotlib.pyplot as plt\n",
    "#NumPy- to access the library for mean() and other mathematical commands\n",
    "import numpy as np\n",
    "#Prophet- to predict future data in specific dataframes/data collections\n",
    "from prophet import Prophet\n",
    "\n",
    "\n"
   ]
  },
  {
   "cell_type": "code",
   "execution_count": null,
   "metadata": {},
   "outputs": [],
   "source": [
    "#Read the CSV files into the program/cells.\n",
    "##Everything present in this cell is filler as of now, it should be fixed when\n",
    "##utilizing this cell with the propeer CSV file information.\n",
    "\n",
    "data_x = pd.read_csv(\"Resources/enterstuffhere.csv\")\n",
    "data_y = pd.read_csv(\"Resources/enterstuffhere2.csv\")\n",
    "\n",
    "#Produce Dataframes for the CSV files\n",
    "x_df = pd.DataFrame(data_x)\n",
    "y_df = pd.DataFrame(data_y)\n",
    "\n",
    "#Display the DataFrames. . . \n",
    "display(x_df.head())\n",
    "display(y_df.head())"
   ]
  },
  {
   "cell_type": "code",
   "execution_count": null,
   "metadata": {},
   "outputs": [],
   "source": []
  }
 ],
 "metadata": {
  "language_info": {
   "name": "python"
  }
 },
 "nbformat": 4,
 "nbformat_minor": 2
}
