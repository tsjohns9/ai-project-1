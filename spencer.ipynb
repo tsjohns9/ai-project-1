{
 "cells": [
  {
   "cell_type": "code",
   "execution_count": null,
   "metadata": {},
   "outputs": [],
   "source": [
    "import pandas as pd\n",
    "#MatPlotlib- to assist with cultivating plots of data\n",
    "import matplotlib.pyplot as plt\n",
    "#NumPy- to access the library for mean() and other mathematical commands\n",
    "import numpy as np\n",
    "#Prophet- to predict future data in specific dataframes/data collections\n",
    "from prophet import Prophet\n",
    "\n",
    "\n"
   ]
  },
  {
   "cell_type": "code",
   "execution_count": null,
   "metadata": {},
   "outputs": [],
   "source": [
    "def fetch_data():\n",
    "    url = \"https://yahoo-finance160.p.rapidapi.com/getlogo\"\n",
    "    params = {\n",
    "        'key': 'your_api_key',\n",
    "        'other_param': 'value'\n",
    "    }\n",
    "    \n",
    "    response = requests.get(url, params=params)\n",
    "    \n",
    "    if response.status_code == 200:\n",
    "        data = response.json()\n",
    "        \n",
    "        # Process data or save to a file\n",
    "        with open('data.json', 'w') as f:\n",
    "            json.dump(data, f)\n",
    "    else:\n",
    "        print(f\"Failed to retrieve data: {response.status_code}\")\n",
    "\n",
    "if __name__ == '__main__':\n",
    "    fetch_data()"
   ]
  }
 ],
 "metadata": {
  "language_info": {
   "name": "python"
  }
 },
 "nbformat": 4,
 "nbformat_minor": 2
}
